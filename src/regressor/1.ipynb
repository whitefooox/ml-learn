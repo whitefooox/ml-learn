{
 "cells": [
  {
   "cell_type": "code",
   "execution_count": 412,
   "metadata": {},
   "outputs": [],
   "source": [
    "import pandas as pd\n",
    "import numpy as np\n",
    "from sklearn.model_selection import train_test_split\n",
    "from sklearn.linear_model import LassoCV, RidgeCV\n",
    "from sklearn.preprocessing import MinMaxScaler\n",
    "from sklearn.pipeline import make_pipeline\n",
    "from sklearn.preprocessing import PolynomialFeatures"
   ]
  },
  {
   "cell_type": "markdown",
   "metadata": {},
   "source": [
    "1. Загрузите данные в DataFrame, используя функцию read_csv."
   ]
  },
  {
   "cell_type": "code",
   "execution_count": 413,
   "metadata": {},
   "outputs": [],
   "source": [
    "df = pd.read_csv('./assets/house_price.csv')"
   ]
  },
  {
   "cell_type": "markdown",
   "metadata": {},
   "source": [
    "2. Сколько строк и столбцов в данных? Есть ли пропуски? Для ответа на\n",
    "вопросы используйте метод info()."
   ]
  },
  {
   "cell_type": "code",
   "execution_count": 414,
   "metadata": {},
   "outputs": [
    {
     "name": "stdout",
     "output_type": "stream",
     "text": [
      "<class 'pandas.core.frame.DataFrame'>\n",
      "RangeIndex: 1460 entries, 0 to 1459\n",
      "Data columns (total 81 columns):\n",
      " #   Column         Non-Null Count  Dtype  \n",
      "---  ------         --------------  -----  \n",
      " 0   Id             1460 non-null   int64  \n",
      " 1   MSSubClass     1460 non-null   int64  \n",
      " 2   MSZoning       1460 non-null   object \n",
      " 3   LotFrontage    1201 non-null   float64\n",
      " 4   LotArea        1460 non-null   int64  \n",
      " 5   Street         1460 non-null   object \n",
      " 6   Alley          91 non-null     object \n",
      " 7   LotShape       1460 non-null   object \n",
      " 8   LandContour    1460 non-null   object \n",
      " 9   Utilities      1460 non-null   object \n",
      " 10  LotConfig      1460 non-null   object \n",
      " 11  LandSlope      1460 non-null   object \n",
      " 12  Neighborhood   1460 non-null   object \n",
      " 13  Condition1     1460 non-null   object \n",
      " 14  Condition2     1460 non-null   object \n",
      " 15  BldgType       1460 non-null   object \n",
      " 16  HouseStyle     1460 non-null   object \n",
      " 17  OverallQual    1460 non-null   int64  \n",
      " 18  OverallCond    1460 non-null   int64  \n",
      " 19  YearBuilt      1460 non-null   int64  \n",
      " 20  YearRemodAdd   1460 non-null   int64  \n",
      " 21  RoofStyle      1460 non-null   object \n",
      " 22  RoofMatl       1460 non-null   object \n",
      " 23  Exterior1st    1460 non-null   object \n",
      " 24  Exterior2nd    1460 non-null   object \n",
      " 25  MasVnrType     588 non-null    object \n",
      " 26  MasVnrArea     1452 non-null   float64\n",
      " 27  ExterQual      1460 non-null   object \n",
      " 28  ExterCond      1460 non-null   object \n",
      " 29  Foundation     1460 non-null   object \n",
      " 30  BsmtQual       1423 non-null   object \n",
      " 31  BsmtCond       1423 non-null   object \n",
      " 32  BsmtExposure   1422 non-null   object \n",
      " 33  BsmtFinType1   1423 non-null   object \n",
      " 34  BsmtFinSF1     1460 non-null   int64  \n",
      " 35  BsmtFinType2   1422 non-null   object \n",
      " 36  BsmtFinSF2     1460 non-null   int64  \n",
      " 37  BsmtUnfSF      1460 non-null   int64  \n",
      " 38  TotalBsmtSF    1460 non-null   int64  \n",
      " 39  Heating        1460 non-null   object \n",
      " 40  HeatingQC      1460 non-null   object \n",
      " 41  CentralAir     1460 non-null   object \n",
      " 42  Electrical     1459 non-null   object \n",
      " 43  1stFlrSF       1460 non-null   int64  \n",
      " 44  2ndFlrSF       1460 non-null   int64  \n",
      " 45  LowQualFinSF   1460 non-null   int64  \n",
      " 46  GrLivArea      1460 non-null   int64  \n",
      " 47  BsmtFullBath   1460 non-null   int64  \n",
      " 48  BsmtHalfBath   1460 non-null   int64  \n",
      " 49  FullBath       1460 non-null   int64  \n",
      " 50  HalfBath       1460 non-null   int64  \n",
      " 51  BedroomAbvGr   1460 non-null   int64  \n",
      " 52  KitchenAbvGr   1460 non-null   int64  \n",
      " 53  KitchenQual    1460 non-null   object \n",
      " 54  TotRmsAbvGrd   1460 non-null   int64  \n",
      " 55  Functional     1460 non-null   object \n",
      " 56  Fireplaces     1460 non-null   int64  \n",
      " 57  FireplaceQu    770 non-null    object \n",
      " 58  GarageType     1379 non-null   object \n",
      " 59  GarageYrBlt    1379 non-null   float64\n",
      " 60  GarageFinish   1379 non-null   object \n",
      " 61  GarageCars     1460 non-null   int64  \n",
      " 62  GarageArea     1460 non-null   int64  \n",
      " 63  GarageQual     1379 non-null   object \n",
      " 64  GarageCond     1379 non-null   object \n",
      " 65  PavedDrive     1460 non-null   object \n",
      " 66  WoodDeckSF     1460 non-null   int64  \n",
      " 67  OpenPorchSF    1460 non-null   int64  \n",
      " 68  EnclosedPorch  1460 non-null   int64  \n",
      " 69  3SsnPorch      1460 non-null   int64  \n",
      " 70  ScreenPorch    1460 non-null   int64  \n",
      " 71  PoolArea       1460 non-null   int64  \n",
      " 72  PoolQC         7 non-null      object \n",
      " 73  Fence          281 non-null    object \n",
      " 74  MiscFeature    54 non-null     object \n",
      " 75  MiscVal        1460 non-null   int64  \n",
      " 76  MoSold         1460 non-null   int64  \n",
      " 77  YrSold         1460 non-null   int64  \n",
      " 78  SaleType       1460 non-null   object \n",
      " 79  SaleCondition  1460 non-null   object \n",
      " 80  SalePrice      1460 non-null   int64  \n",
      "dtypes: float64(3), int64(35), object(43)\n",
      "memory usage: 924.0+ KB\n"
     ]
    }
   ],
   "source": [
    "df.info()"
   ]
  },
  {
   "cell_type": "markdown",
   "metadata": {},
   "source": [
    "3. Для выполнения задания в наборе данных необходимо оставить только\n",
    "числовые признаки. Для этого можно использовать следующий программный\n",
    "код (а можно придумать свой):"
   ]
  },
  {
   "cell_type": "code",
   "execution_count": 415,
   "metadata": {},
   "outputs": [],
   "source": [
    "df = df.select_dtypes(include='number')"
   ]
  },
  {
   "cell_type": "markdown",
   "metadata": {},
   "source": [
    "4. Удалите столбец Id и пропущенные значения."
   ]
  },
  {
   "cell_type": "code",
   "execution_count": 416,
   "metadata": {},
   "outputs": [
    {
     "name": "stdout",
     "output_type": "stream",
     "text": [
      "<class 'pandas.core.frame.DataFrame'>\n",
      "Index: 1121 entries, 0 to 1459\n",
      "Data columns (total 37 columns):\n",
      " #   Column         Non-Null Count  Dtype  \n",
      "---  ------         --------------  -----  \n",
      " 0   MSSubClass     1121 non-null   int64  \n",
      " 1   LotFrontage    1121 non-null   float64\n",
      " 2   LotArea        1121 non-null   int64  \n",
      " 3   OverallQual    1121 non-null   int64  \n",
      " 4   OverallCond    1121 non-null   int64  \n",
      " 5   YearBuilt      1121 non-null   int64  \n",
      " 6   YearRemodAdd   1121 non-null   int64  \n",
      " 7   MasVnrArea     1121 non-null   float64\n",
      " 8   BsmtFinSF1     1121 non-null   int64  \n",
      " 9   BsmtFinSF2     1121 non-null   int64  \n",
      " 10  BsmtUnfSF      1121 non-null   int64  \n",
      " 11  TotalBsmtSF    1121 non-null   int64  \n",
      " 12  1stFlrSF       1121 non-null   int64  \n",
      " 13  2ndFlrSF       1121 non-null   int64  \n",
      " 14  LowQualFinSF   1121 non-null   int64  \n",
      " 15  GrLivArea      1121 non-null   int64  \n",
      " 16  BsmtFullBath   1121 non-null   int64  \n",
      " 17  BsmtHalfBath   1121 non-null   int64  \n",
      " 18  FullBath       1121 non-null   int64  \n",
      " 19  HalfBath       1121 non-null   int64  \n",
      " 20  BedroomAbvGr   1121 non-null   int64  \n",
      " 21  KitchenAbvGr   1121 non-null   int64  \n",
      " 22  TotRmsAbvGrd   1121 non-null   int64  \n",
      " 23  Fireplaces     1121 non-null   int64  \n",
      " 24  GarageYrBlt    1121 non-null   float64\n",
      " 25  GarageCars     1121 non-null   int64  \n",
      " 26  GarageArea     1121 non-null   int64  \n",
      " 27  WoodDeckSF     1121 non-null   int64  \n",
      " 28  OpenPorchSF    1121 non-null   int64  \n",
      " 29  EnclosedPorch  1121 non-null   int64  \n",
      " 30  3SsnPorch      1121 non-null   int64  \n",
      " 31  ScreenPorch    1121 non-null   int64  \n",
      " 32  PoolArea       1121 non-null   int64  \n",
      " 33  MiscVal        1121 non-null   int64  \n",
      " 34  MoSold         1121 non-null   int64  \n",
      " 35  YrSold         1121 non-null   int64  \n",
      " 36  SalePrice      1121 non-null   int64  \n",
      "dtypes: float64(3), int64(34)\n",
      "memory usage: 332.8 KB\n"
     ]
    }
   ],
   "source": [
    "df = df.dropna().drop(labels=['Id'], axis=1)\n",
    "df.info()"
   ]
  },
  {
   "cell_type": "markdown",
   "metadata": {},
   "source": [
    "5. Разделите набор данных на входные данные X (все столбцы кроме\n",
    "SalePrice) и ответы y (столбец SalePrice)."
   ]
  },
  {
   "cell_type": "code",
   "execution_count": 417,
   "metadata": {},
   "outputs": [],
   "source": [
    "x = df.drop(labels=['SalePrice'], axis=1)\n",
    "y = df['SalePrice']"
   ]
  },
  {
   "cell_type": "markdown",
   "metadata": {},
   "source": [
    "6. Разделите данные на обучающую и тестовую выборки."
   ]
  },
  {
   "cell_type": "code",
   "execution_count": 418,
   "metadata": {},
   "outputs": [],
   "source": [
    "x_train, x_test, y_train, y_test = train_test_split(x, y, test_size=0.3)"
   ]
  },
  {
   "cell_type": "markdown",
   "metadata": {},
   "source": [
    "7. Обучите модель LassoCV (установите значение гиперпараметра cv\n",
    "самостоятельно). Оцените качество полученной модели.Посмотрите на\n",
    "коэффициенты модели. Есть ли коэффициенты равные 0? Что это означает?\n",
    "Попробуйте их убрать и построить модель заново. Как изменилось качество\n",
    "полученной модели?"
   ]
  },
  {
   "cell_type": "code",
   "execution_count": 419,
   "metadata": {},
   "outputs": [],
   "source": [
    "lasso_pipe = make_pipeline(MinMaxScaler(), LassoCV(cv=10, alphas=[0.001, 0.01, 0.1, 1, 10, 100]))"
   ]
  },
  {
   "cell_type": "code",
   "execution_count": 396,
   "metadata": {},
   "outputs": [
    {
     "data": {
      "text/plain": [
       "0.837047056562432"
      ]
     },
     "execution_count": 396,
     "metadata": {},
     "output_type": "execute_result"
    }
   ],
   "source": [
    "lasso_pipe.fit(x_train, y_train)\n",
    "lasso_pipe.score(x_train, y_train)"
   ]
  },
  {
   "cell_type": "code",
   "execution_count": 397,
   "metadata": {},
   "outputs": [
    {
     "data": {
      "text/plain": [
       "0.6950109392246868"
      ]
     },
     "execution_count": 397,
     "metadata": {},
     "output_type": "execute_result"
    }
   ],
   "source": [
    "lasso_pipe.score(x_test, y_test)"
   ]
  },
  {
   "cell_type": "code",
   "execution_count": 398,
   "metadata": {},
   "outputs": [
    {
     "data": {
      "text/plain": [
       "array([-21728.18873284,  20775.27610529,  39697.35372194, 133562.75418743,\n",
       "        17443.14567755,  30911.0254209 ,  12310.33893537,  36034.69491091,\n",
       "        53562.89997965,     -0.        ,      0.        ,  53653.8682964 ,\n",
       "        37280.57663912,  32802.62388762,  -5820.49996787, 150426.62797804,\n",
       "         3669.88921971,  -4905.23681098,    155.06415881,      0.        ,\n",
       "       -43547.62850568, -22149.38810206,  29827.43957273,  21047.05829811,\n",
       "            0.        ,  24630.58896874,  30116.47272189,  11606.80518497,\n",
       "         -739.50223923,   -439.59024479,      0.        ,      0.        ,\n",
       "        32420.81121651,      0.        ,     -0.        ,   1788.93928445])"
      ]
     },
     "execution_count": 398,
     "metadata": {},
     "output_type": "execute_result"
    }
   ],
   "source": [
    "lasso_coef = lasso_pipe.named_steps['lassocv'].coef_\n",
    "lasso_coef"
   ]
  },
  {
   "cell_type": "code",
   "execution_count": 399,
   "metadata": {},
   "outputs": [
    {
     "name": "stdout",
     "output_type": "stream",
     "text": [
      "<class 'pandas.core.frame.DataFrame'>\n",
      "Index: 1121 entries, 0 to 1459\n",
      "Data columns (total 28 columns):\n",
      " #   Column         Non-Null Count  Dtype  \n",
      "---  ------         --------------  -----  \n",
      " 0   MSSubClass     1121 non-null   int64  \n",
      " 1   LotFrontage    1121 non-null   float64\n",
      " 2   LotArea        1121 non-null   int64  \n",
      " 3   OverallQual    1121 non-null   int64  \n",
      " 4   OverallCond    1121 non-null   int64  \n",
      " 5   YearBuilt      1121 non-null   int64  \n",
      " 6   YearRemodAdd   1121 non-null   int64  \n",
      " 7   MasVnrArea     1121 non-null   float64\n",
      " 8   BsmtFinSF1     1121 non-null   int64  \n",
      " 9   TotalBsmtSF    1121 non-null   int64  \n",
      " 10  1stFlrSF       1121 non-null   int64  \n",
      " 11  2ndFlrSF       1121 non-null   int64  \n",
      " 12  LowQualFinSF   1121 non-null   int64  \n",
      " 13  GrLivArea      1121 non-null   int64  \n",
      " 14  BsmtFullBath   1121 non-null   int64  \n",
      " 15  BsmtHalfBath   1121 non-null   int64  \n",
      " 16  FullBath       1121 non-null   int64  \n",
      " 17  BedroomAbvGr   1121 non-null   int64  \n",
      " 18  KitchenAbvGr   1121 non-null   int64  \n",
      " 19  TotRmsAbvGrd   1121 non-null   int64  \n",
      " 20  Fireplaces     1121 non-null   int64  \n",
      " 21  GarageCars     1121 non-null   int64  \n",
      " 22  GarageArea     1121 non-null   int64  \n",
      " 23  WoodDeckSF     1121 non-null   int64  \n",
      " 24  OpenPorchSF    1121 non-null   int64  \n",
      " 25  EnclosedPorch  1121 non-null   int64  \n",
      " 26  PoolArea       1121 non-null   int64  \n",
      " 27  YrSold         1121 non-null   int64  \n",
      "dtypes: float64(2), int64(26)\n",
      "memory usage: 254.0 KB\n"
     ]
    }
   ],
   "source": [
    "zero_indices = np.where(lasso_coef == 0)[0]\n",
    "zero_features = x.columns[zero_indices]\n",
    "x = x.drop(columns=zero_features)\n",
    "x.info()"
   ]
  },
  {
   "cell_type": "code",
   "execution_count": 400,
   "metadata": {},
   "outputs": [],
   "source": [
    "x_train, x_test, y_train, y_test = train_test_split(x, y, test_size=0.3)"
   ]
  },
  {
   "cell_type": "code",
   "execution_count": 401,
   "metadata": {},
   "outputs": [
    {
     "data": {
      "text/plain": [
       "0.813820878864531"
      ]
     },
     "execution_count": 401,
     "metadata": {},
     "output_type": "execute_result"
    }
   ],
   "source": [
    "lasso_pipe.fit(x_train, y_train)\n",
    "lasso_pipe.score(x_train, y_train)"
   ]
  },
  {
   "cell_type": "code",
   "execution_count": 402,
   "metadata": {},
   "outputs": [
    {
     "data": {
      "text/plain": [
       "0.7785651263842996"
      ]
     },
     "execution_count": 402,
     "metadata": {},
     "output_type": "execute_result"
    }
   ],
   "source": [
    "lasso_pipe.score(x_test, y_test)"
   ]
  },
  {
   "cell_type": "markdown",
   "metadata": {},
   "source": [
    "8. Попробуйте использовать L2-регуляризацию, т.е. обучите модель RidgeCV.\n",
    "Сравните полученный результат LassoCV и RidgeCV"
   ]
  },
  {
   "cell_type": "code",
   "execution_count": 403,
   "metadata": {},
   "outputs": [],
   "source": [
    "ridge_pipe = make_pipeline(MinMaxScaler(), RidgeCV(cv=10, alphas=[0.001, 0.01, 0.1, 1, 10, 100]))"
   ]
  },
  {
   "cell_type": "code",
   "execution_count": 404,
   "metadata": {},
   "outputs": [],
   "source": [
    "x = df.drop(labels=['SalePrice'], axis=1)\n",
    "y = df['SalePrice']"
   ]
  },
  {
   "cell_type": "code",
   "execution_count": 405,
   "metadata": {},
   "outputs": [],
   "source": [
    "x_train, x_test, y_train, y_test = train_test_split(x, y, test_size=0.3)"
   ]
  },
  {
   "cell_type": "code",
   "execution_count": 406,
   "metadata": {},
   "outputs": [
    {
     "data": {
      "text/plain": [
       "0.7734957030946713"
      ]
     },
     "execution_count": 406,
     "metadata": {},
     "output_type": "execute_result"
    }
   ],
   "source": [
    "ridge_pipe.fit(x_train, y_train)\n",
    "ridge_pipe.score(x_train, y_train)"
   ]
  },
  {
   "cell_type": "code",
   "execution_count": 407,
   "metadata": {},
   "outputs": [
    {
     "data": {
      "text/plain": [
       "0.8276497291681925"
      ]
     },
     "execution_count": 407,
     "metadata": {},
     "output_type": "execute_result"
    }
   ],
   "source": [
    "ridge_pipe.score(x_test, y_test)"
   ]
  },
  {
   "cell_type": "code",
   "execution_count": 408,
   "metadata": {},
   "outputs": [
    {
     "data": {
      "text/plain": [
       "array([-27971.21518735,   1685.64183322,  15062.4622955 , 103429.87576059,\n",
       "        16182.76095653,  21759.16763187,  20664.56410333,  49039.26093286,\n",
       "        30379.0384702 ,   4161.33254455,   1871.86814493,  29725.56946195,\n",
       "        44195.80675603,  30635.819227  ,   3190.91838024,  48671.23403209,\n",
       "        28242.40666051,   8748.45757751,  34825.70696038,   9846.61308097,\n",
       "       -16793.57501734, -23911.67567248,  49691.75813825,  36207.38595823,\n",
       "         5645.91581239,  48366.30425009,  30827.07158491,  22096.5682446 ,\n",
       "         7619.45280622,    715.64218856,   7118.31031616,  21464.0017493 ,\n",
       "         -384.31793153,  -6363.85745086,  -2144.95478451,  -2893.82878507])"
      ]
     },
     "execution_count": 408,
     "metadata": {},
     "output_type": "execute_result"
    }
   ],
   "source": [
    "ridge_coef = ridge_pipe.named_steps['ridgecv'].coef_\n",
    "ridge_coef"
   ]
  },
  {
   "cell_type": "markdown",
   "metadata": {},
   "source": [
    "Дополнительно: попробуйте использовать полином 2-й степени с L2 регуляризацией (Ridge). Получите коэффициент детерминации для тестового и обучающего наборов данных. "
   ]
  },
  {
   "cell_type": "code",
   "execution_count": 409,
   "metadata": {},
   "outputs": [],
   "source": [
    "poly_ridge_pipe = make_pipeline(MinMaxScaler(), PolynomialFeatures(degree=2), RidgeCV(cv=10, alphas=[0.001, 0.01, 0.1, 1, 10, 100]))"
   ]
  },
  {
   "cell_type": "code",
   "execution_count": 410,
   "metadata": {},
   "outputs": [
    {
     "data": {
      "text/plain": [
       "0.7918467682107972"
      ]
     },
     "execution_count": 410,
     "metadata": {},
     "output_type": "execute_result"
    }
   ],
   "source": [
    "poly_ridge_pipe.fit(x_train, y_train)\n",
    "poly_ridge_pipe.score(x_train, y_train)"
   ]
  },
  {
   "cell_type": "code",
   "execution_count": 411,
   "metadata": {},
   "outputs": [
    {
     "data": {
      "text/plain": [
       "0.8450486696068307"
      ]
     },
     "execution_count": 411,
     "metadata": {},
     "output_type": "execute_result"
    }
   ],
   "source": [
    "poly_ridge_pipe.score(x_test, y_test)"
   ]
  }
 ],
 "metadata": {
  "kernelspec": {
   "display_name": "env",
   "language": "python",
   "name": "python3"
  },
  "language_info": {
   "codemirror_mode": {
    "name": "ipython",
    "version": 3
   },
   "file_extension": ".py",
   "mimetype": "text/x-python",
   "name": "python",
   "nbconvert_exporter": "python",
   "pygments_lexer": "ipython3",
   "version": "3.11.2"
  }
 },
 "nbformat": 4,
 "nbformat_minor": 2
}
